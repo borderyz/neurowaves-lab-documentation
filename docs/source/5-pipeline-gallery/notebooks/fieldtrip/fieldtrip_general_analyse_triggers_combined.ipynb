{
 "cells": [
  {
   "metadata": {},
   "cell_type": "markdown",
   "source": [
    "Fieldtrip: Combind Binary Triggers processing\n",
    "=============================================\n",
    "\n",
    "Lead authors: First Name Last Name <email>\n",
    "\n",
    "- Description of experiment\n",
    "The `Experiment Name` code experiment in `Used Coding Library` can be found here:\n",
    "\n",
    "[Experiment Name Code](https://www.google.com)"
   ],
   "id": "2d47536ea427386c"
  }
 ],
 "metadata": {
  "kernelspec": {
   "display_name": "Python 3",
   "language": "python",
   "name": "python3"
  },
  "language_info": {
   "codemirror_mode": {
    "name": "ipython",
    "version": 2
   },
   "file_extension": ".py",
   "mimetype": "text/x-python",
   "name": "python",
   "nbconvert_exporter": "python",
   "pygments_lexer": "ipython2",
   "version": "2.7.6"
  }
 },
 "nbformat": 4,
 "nbformat_minor": 5
}
